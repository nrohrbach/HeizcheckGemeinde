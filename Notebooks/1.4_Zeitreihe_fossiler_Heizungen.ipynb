{
 "cells": [
  {
   "cell_type": "markdown",
   "id": "28cf4079",
   "metadata": {},
   "source": [
    "# Fragestellung 1.4: Wie hat sich der Anteil fossiler Heizungen in den letzten 20 Jahren in einer Gemeinde verändert? \n",
    "\n",
    "Um diese Fragen zu beantworten, werden Daten aus dem \"Gebäude- und Wohnungsregister\" (GWR) verwendet. Die Daten werden nach Gemeinde, Bauperiode und Energiequelle gruppiert. Anschliessend werden die einzelnen Objekte gezählt. Anschliessend wird die resultierende Liste als CSV-Datei exportiert."
   ]
  },
  {
   "cell_type": "markdown",
   "id": "8dee0b46",
   "metadata": {},
   "source": [
    "## Notebook vorbereiten und Daten importieren"
   ]
  },
  {
   "cell_type": "markdown",
   "id": "daad1771",
   "metadata": {},
   "source": [
    "In einem ersten Schritt werden die notwendigen Python Bibliotheken importiert und die Daten als Dataframe reingeladen."
   ]
  },
  {
   "cell_type": "code",
   "execution_count": 14,
   "id": "f3f09594",
   "metadata": {},
   "outputs": [],
   "source": [
    "# Zu verwendende Bibliotheken importieren\n",
    "import pandas as pd\n",
    "from io import BytesIO\n",
    "from zipfile import ZipFile\n",
    "from urllib.request import urlopen"
   ]
  },
  {
   "cell_type": "code",
   "execution_count": null,
   "id": "e0f72d19",
   "metadata": {},
   "outputs": [],
   "source": [
    "# Datenquelle definieren\n",
    "url = urlopen(\"https://public.madd.bfs.admin.ch/ch.zip\")\n",
    "\n",
    "# ZIP-File herunterladen und Dataframe erstellen\n",
    "zipfile = ZipFile(BytesIO(url.read()))\n",
    "df = pd.read_csv(zipfile.open('gebaeude_batiment_edificio.csv'), \n",
    "                     sep='\\t')\n",
    "\n",
    "df.head()"
   ]
  },
  {
   "cell_type": "markdown",
   "id": "03a9cc40",
   "metadata": {},
   "source": [
    "## Daten vorbereiten"
   ]
  },
  {
   "cell_type": "markdown",
   "id": "b61215fc",
   "metadata": {},
   "source": [
    "Als nächstes werden die Daten vorprozessiert. Dabei werden die Attributnamen geändert, unwesentliche Spalten gelöscht, Werte klassiert und NULL Werte behandelt.\n",
    "Nach diesem Schritt sind die Daten bereinigt und können für die Analyse verwendet werden."
   ]
  },
  {
   "cell_type": "code",
   "execution_count": null,
   "id": "680d4b6c",
   "metadata": {},
   "outputs": [],
   "source": [
    "# Die gewünschten Attribute sinnvoll umbenennen und in ein neues Dateframe speichern.\n",
    "buildings = df.rename(columns={\"GDEKT\":\"Kanton\",\n",
    "                               \"GGDENAME\": \"Gemeinde\",\n",
    "                               \"GKODE\": \"lat\",\n",
    "                               \"GKODN\": \"lon\",\n",
    "                               \"GKAT\":\"Gebaeudekategorie\",\n",
    "                               \"GBAUJ\":\"Baujahr\",\n",
    "                               \"GBAUP\":\"Bauperiode\",\n",
    "                               \"GANZWHG\":\"AnzahlWohnungen\",\n",
    "                               \"GEBF\":\"Energiebezugsflaeche\",\n",
    "                               \"GWAERZH1\":\"Waermeerzeuger\",\n",
    "                               \"GENH1\":\"Energiequelle\",\n",
    "                               \"GWAERSCEH1\":\"InfoquelleHeizung\"})"
   ]
  },
  {
   "cell_type": "code",
   "execution_count": null,
   "id": "c061f8cd",
   "metadata": {},
   "outputs": [],
   "source": [
    "# Die nicht verwendeten Attribute löschen\n",
    "buildings = buildings.drop(['GGDENR','EGRID','LGBKR','LPARZ','LPARZSX','LTYP','GEBNR','GBEZ','GKSCE','GSTAT','GKLAS','GBAUM','GABBJ','GAREA','GVOL','GVOLNORM','GVOLSCE','GASTW','GAZZI','GSCHUTZR','GWAERDATH1','GWAERZH2','GENH2','GWAERSCEH2','GWAERDATH2','GWAERZW1','GENW1','GWAERSCEW1','GWAERDATW1','GWAERZW2','GENW2','GWAERSCEW2','GWAERDATW2','GEXPDAT'], axis=1)"
   ]
  },
  {
   "cell_type": "code",
   "execution_count": null,
   "id": "e6c2399e",
   "metadata": {},
   "outputs": [],
   "source": [
    "# Die korrekten Bezeichnungen den Heizcodes zuweisen und als Liste speichern.\n",
    "buildings['Energiequelle'] = buildings.Energiequelle.replace({\n",
    "                                        7500: 'Keine',\n",
    "                                        7501: 'Weitere',\n",
    "                                        7510: 'Weitere',\n",
    "                                        7511: 'Weitere',\n",
    "                                        7512: 'Weitere',\n",
    "                                        7513: 'Weitere',\n",
    "                                        7520: 'Gas',\n",
    "                                        7530: 'Heizöl',\n",
    "                                        7540: 'Weitere',\n",
    "                                        7541: 'Weitere',\n",
    "                                        7542: 'Weitere',\n",
    "                                        7543: 'Weitere',\n",
    "                                        7550: 'Weitere',\n",
    "                                        7560: 'Elektrizität',\n",
    "                                        7570: 'Weitere',\n",
    "                                        7580: 'Weitere',\n",
    "                                        7581: 'Weitere',\n",
    "                                        7582: 'Weitere',\n",
    "                                        7598: 'Unbestimmt',\n",
    "                                        7599: 'Keine'\n",
    "                                            })\n"
   ]
  },
  {
   "cell_type": "code",
   "execution_count": null,
   "id": "8f3be8b9",
   "metadata": {},
   "outputs": [],
   "source": [
    "# Fehlende Werte werden wie folgt berücksichtigt.\n",
    "\n",
    "# Fehlende Bauperiode wird zu \"Vor 1919\"\n",
    "buildings['Bauperiode'] = buildings['Bauperiode'].fillna(8011)\n",
    "\n",
    "# Fehlende Energiequelle wird zu \"Unbestimmt\"\n",
    "buildings['Energiequelle'] = buildings['Energiequelle'].fillna('Unbestimmt')"
   ]
  },
  {
   "cell_type": "code",
   "execution_count": null,
   "id": "964e9491",
   "metadata": {},
   "outputs": [],
   "source": [
    "# Bereinigtes DataFrame anschauen\n",
    "buildings"
   ]
  },
  {
   "cell_type": "markdown",
   "id": "730452ac",
   "metadata": {},
   "source": [
    "## Anzahl Gebäude pro Gemeinde"
   ]
  },
  {
   "cell_type": "markdown",
   "id": "363c54c1",
   "metadata": {},
   "source": [
    "In diesem Schritt wird die Anzahl Gebäude pro Gemeinde und Bauperiode ausgewertet. Die Anzahl Gebäude wird später verwendet um die prozentuale Verteilung der Energieträger zu berechnen."
   ]
  },
  {
   "cell_type": "code",
   "execution_count": null,
   "id": "5d369348",
   "metadata": {},
   "outputs": [],
   "source": [
    "# Zählt alle Gebäude pro Gemeinde, Bauperiode und Energiequelle\n",
    "GebaeudeGemeindeTotal = buildings[['Gemeinde','Bauperiode']].value_counts().reset_index()\n",
    "GebaeudeGemeindeTotal"
   ]
  },
  {
   "cell_type": "code",
   "execution_count": null,
   "id": "f136d4cd",
   "metadata": {},
   "outputs": [],
   "source": [
    "# Die Spaltennamen des DataFrames neu benennen\n",
    "GebaeudeGemeindeTotal.columns  = ['Gemeinde','Bauperiode','GebaeudeTotal']\n",
    "GebaeudeGemeindeTotal"
   ]
  },
  {
   "cell_type": "markdown",
   "id": "4d555f56",
   "metadata": {},
   "source": [
    "## Anzahl Gebäude pro Gemeinde, Bauperiode und Energiequelle zählen und als DataFrame speichern"
   ]
  },
  {
   "cell_type": "markdown",
   "id": "baae797a",
   "metadata": {},
   "source": [
    "In diesem Schritt werden die Anzahl Gebäude pro Gemeinde, Bauperiode und Energiequelle ausgewertet."
   ]
  },
  {
   "cell_type": "code",
   "execution_count": null,
   "id": "0fa5aeb3",
   "metadata": {},
   "outputs": [],
   "source": [
    "# Zählt alle Gebäude pro Gemeinde, Bauperiode und Energiequelle\n",
    "Gemeindeliste = buildings[['Gemeinde','Bauperiode','Energiequelle']].value_counts().reset_index()"
   ]
  },
  {
   "cell_type": "code",
   "execution_count": null,
   "id": "c53dbe34",
   "metadata": {},
   "outputs": [],
   "source": [
    "# Die Spaltennamen des DataFrames neu benennen\n",
    "Gemeindeliste.columns  = ['Gemeinde','Bauperiode','Energiequelle','Anzahl']\n",
    "Gemeindeliste"
   ]
  },
  {
   "cell_type": "markdown",
   "id": "e440ca76",
   "metadata": {},
   "source": [
    "## Die beiden Dataframes zusammenführen"
   ]
  },
  {
   "cell_type": "markdown",
   "id": "82f9709d",
   "metadata": {},
   "source": [
    "Nun werden die beiden Dataframe zusammengeführt."
   ]
  },
  {
   "cell_type": "code",
   "execution_count": null,
   "id": "e4fde198",
   "metadata": {},
   "outputs": [],
   "source": [
    "Gemeinden = pd.merge(Gemeindeliste, GebaeudeGemeindeTotal, on=['Gemeinde','Bauperiode'])\n",
    "Gemeinden"
   ]
  },
  {
   "cell_type": "markdown",
   "id": "6f725807",
   "metadata": {},
   "source": [
    "## Daten als CSV-Datei exportieren"
   ]
  },
  {
   "cell_type": "markdown",
   "id": "792a89c1",
   "metadata": {},
   "source": [
    "Zum Schluss wird das Dataframe als CSV-Datei exportiert. Diese Daten werden anschliessend für die Visualisierung verwendet."
   ]
  },
  {
   "cell_type": "code",
   "execution_count": null,
   "id": "905e2349",
   "metadata": {},
   "outputs": [],
   "source": [
    "# Als CSV-File exportieren\n",
    "Gemeinden.to_csv('Daten/Gemeindeliste_1-4.csv', index = False, header=True, sep=',', encoding=\"utf-8-sig\")"
   ]
  },
  {
   "cell_type": "code",
   "execution_count": null,
   "id": "8d28bfcd",
   "metadata": {},
   "outputs": [],
   "source": []
  }
 ],
 "metadata": {
  "kernelspec": {
   "display_name": "Python 3 (ipykernel)",
   "language": "python",
   "name": "python3"
  },
  "language_info": {
   "codemirror_mode": {
    "name": "ipython",
    "version": 3
   },
   "file_extension": ".py",
   "mimetype": "text/x-python",
   "name": "python",
   "nbconvert_exporter": "python",
   "pygments_lexer": "ipython3",
   "version": "3.9.13"
  }
 },
 "nbformat": 4,
 "nbformat_minor": 5
}
