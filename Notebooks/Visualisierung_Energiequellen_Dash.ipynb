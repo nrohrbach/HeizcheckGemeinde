{
 "cells": [
  {
   "cell_type": "markdown",
   "id": "d68c3322-f640-470a-adb1-4a4493b0ed07",
   "metadata": {},
   "source": [
    "# Notebook zur Visualisierung der Daten aus der Fragestellung 1.1 und 1.3 im Dashboard\n",
    "Deises Dasboard von Jupyter bietet die möglichkeit während der Laufzeit die gewünschte Gemeinde auszuwäheln und diese dann als Kuchendiagramm (Pie-Plot) darzustellen. Zusätzlich wird die Heatmap aller Gas-, Heizöl und Elektritzitätsheizungen in einer Karte dargestellt.<br>\n",
    "Datenquelle sind die aufbereiteten Daten des GWR-Datensatzes die im Modul <1.1_Anteil_fossiler_Heizungen.ipynb> und <1.3_Energiequellen_GHE.ipynb> erzeugt wurden.\n",
    "<br>\n",
    "<br>\n",
    "Quellen: <br>\n",
    "Plotly Dash, Open-Source Python-Framwork URL: https://plotly.com/dash [Stand: 2.10.2022]<br>\n",
    "GitHub Jupyter-dash URL: https://github.com/plotly/jupyter-dash [Stand: 2.10.2022 <br>\n",
    "Leaflet open-source JavaScript library for mobile-friendly interactive maps URL: https://leafletjs.com [Stand: 12.10.2022]<br>\n",
    "GitHub dash-leaflet URL: https://github.com/thedirtyfew/dash-leaflet [Stand: 2.10.2022]<br>\n",
    "---\n",
    "<i> CAS Spatial Data Analytics 2022 </i> ¦ <i> Kommunale Übersicht von Heizsystemen und Energieträgern in Wohngebäuden </i> ¦ <i> Stand: 14.10.2022  </i> ¦ <i> Entwickler: Jürg Reist </i>"
   ]
  },
  {
   "cell_type": "markdown",
   "id": "af2aded9-a385-4fdd-8a00-e096c02b3a2b",
   "metadata": {},
   "source": [
    "### Notebook vorbereiten"
   ]
  },
  {
   "cell_type": "code",
   "execution_count": 1,
   "id": "4d93353b-03ee-4760-95c1-0bfa280e030b",
   "metadata": {},
   "outputs": [],
   "source": [
    "import pandas as pd\n",
    "import plotly.express as px\n",
    "from jupyter_dash import JupyterDash\n",
    "from ipyleaflet import Map\n",
    "import dash_leaflet as dl\n",
    "import dash_leaflet.express as dlx\n",
    "\n",
    "# für lokal auf Windows\n",
    "#import dash_core_components as dcc \n",
    "#import dash_html_components as html\n",
    "\n",
    "# für Docker auf Linux\n",
    "from dash import html, dcc \n",
    "from dash.dependencies import Input, Output\n",
    "\n",
    "from dash_extensions.javascript import assign\n",
    "from csv import DictReader\n",
    "\n",
    "stylesheet = ['assets/style.css']"
   ]
  },
  {
   "cell_type": "markdown",
   "id": "f86ce4b2-7d79-4422-a5c8-068ca822699a",
   "metadata": {},
   "source": [
    "### Lesen alle Heizungen die mit Gas, Heizöl oder Elektrizität geheizt werden\n",
    "Diese Daten werden im Notebook <1.1_Anteil_fossiler_Heizungen.ipynb> vorbereitet"
   ]
  },
  {
   "cell_type": "code",
   "execution_count": 2,
   "id": "93759074-2abd-4bfd-8753-f4edc0880fb7",
   "metadata": {},
   "outputs": [
    {
     "data": {
      "text/html": [
       "<div>\n",
       "<style scoped>\n",
       "    .dataframe tbody tr th:only-of-type {\n",
       "        vertical-align: middle;\n",
       "    }\n",
       "\n",
       "    .dataframe tbody tr th {\n",
       "        vertical-align: top;\n",
       "    }\n",
       "\n",
       "    .dataframe thead th {\n",
       "        text-align: right;\n",
       "    }\n",
       "</style>\n",
       "<table border=\"1\" class=\"dataframe\">\n",
       "  <thead>\n",
       "    <tr style=\"text-align: right;\">\n",
       "      <th></th>\n",
       "      <th>Unnamed: 0</th>\n",
       "      <th>Gemeinde</th>\n",
       "      <th>Energiequelle</th>\n",
       "      <th>Anzahl</th>\n",
       "    </tr>\n",
       "  </thead>\n",
       "  <tbody>\n",
       "    <tr>\n",
       "      <th>0</th>\n",
       "      <td>0</td>\n",
       "      <td>Zürich</td>\n",
       "      <td>Gas</td>\n",
       "      <td>21658</td>\n",
       "    </tr>\n",
       "    <tr>\n",
       "      <th>1</th>\n",
       "      <td>1</td>\n",
       "      <td>Zürich</td>\n",
       "      <td>Heizöl</td>\n",
       "      <td>12714</td>\n",
       "    </tr>\n",
       "    <tr>\n",
       "      <th>2</th>\n",
       "      <td>2</td>\n",
       "      <td>Zürich</td>\n",
       "      <td>Keine</td>\n",
       "      <td>12445</td>\n",
       "    </tr>\n",
       "    <tr>\n",
       "      <th>3</th>\n",
       "      <td>3</td>\n",
       "      <td>Basel</td>\n",
       "      <td>Fernwärme</td>\n",
       "      <td>9660</td>\n",
       "    </tr>\n",
       "    <tr>\n",
       "      <th>4</th>\n",
       "      <td>4</td>\n",
       "      <td>Basel</td>\n",
       "      <td>Gas</td>\n",
       "      <td>8812</td>\n",
       "    </tr>\n",
       "    <tr>\n",
       "      <th>...</th>\n",
       "      <td>...</td>\n",
       "      <td>...</td>\n",
       "      <td>...</td>\n",
       "      <td>...</td>\n",
       "    </tr>\n",
       "    <tr>\n",
       "      <th>21454</th>\n",
       "      <td>21454</td>\n",
       "      <td>Thurnen</td>\n",
       "      <td>Gas</td>\n",
       "      <td>1</td>\n",
       "    </tr>\n",
       "    <tr>\n",
       "      <th>21455</th>\n",
       "      <td>21455</td>\n",
       "      <td>Arogno</td>\n",
       "      <td>Erdwärme</td>\n",
       "      <td>1</td>\n",
       "    </tr>\n",
       "    <tr>\n",
       "      <th>21456</th>\n",
       "      <td>21456</td>\n",
       "      <td>Pfungen</td>\n",
       "      <td>Luft</td>\n",
       "      <td>1</td>\n",
       "    </tr>\n",
       "    <tr>\n",
       "      <th>21457</th>\n",
       "      <td>21457</td>\n",
       "      <td>Le Bémont (JU)</td>\n",
       "      <td>Erdwärme</td>\n",
       "      <td>1</td>\n",
       "    </tr>\n",
       "    <tr>\n",
       "      <th>21458</th>\n",
       "      <td>21458</td>\n",
       "      <td>Realp</td>\n",
       "      <td>Gas</td>\n",
       "      <td>1</td>\n",
       "    </tr>\n",
       "  </tbody>\n",
       "</table>\n",
       "<p>21459 rows × 4 columns</p>\n",
       "</div>"
      ],
      "text/plain": [
       "       Unnamed: 0        Gemeinde Energiequelle  Anzahl\n",
       "0               0          Zürich           Gas   21658\n",
       "1               1          Zürich        Heizöl   12714\n",
       "2               2          Zürich         Keine   12445\n",
       "3               3           Basel     Fernwärme    9660\n",
       "4               4           Basel           Gas    8812\n",
       "...           ...             ...           ...     ...\n",
       "21454       21454         Thurnen           Gas       1\n",
       "21455       21455          Arogno      Erdwärme       1\n",
       "21456       21456         Pfungen          Luft       1\n",
       "21457       21457  Le Bémont (JU)      Erdwärme       1\n",
       "21458       21458           Realp           Gas       1\n",
       "\n",
       "[21459 rows x 4 columns]"
      ]
     },
     "execution_count": 2,
     "metadata": {},
     "output_type": "execute_result"
    }
   ],
   "source": [
    "#lesen der Daten aus dem Modul <1.1_Anteil_fossiler_Heizungen.ipynb>\n",
    "df = pd.read_csv(r'Export_Data/EnergyProGemeinde_CH.csv')\n",
    "\n",
    "# Datensatz anzeigen\n",
    "df"
   ]
  },
  {
   "cell_type": "code",
   "execution_count": 3,
   "id": "fb5dfa6b-8a62-4aa4-821f-e53ca5292f29",
   "metadata": {},
   "outputs": [],
   "source": [
    "#sortierte Liste aller Gemeinden erstellen. Diese wird im Dash bei der Dropdownliste verwendet\n",
    "lsGemeinden = sorted(list(df.Gemeinde.unique()))"
   ]
  },
  {
   "cell_type": "markdown",
   "id": "738c81ed-4bc6-4948-aee4-2f0f9c1f4f2b",
   "metadata": {},
   "source": [
    "### Liste aller Gemeinden in der Schweiz mit Koordinaten WGS84 erstellen\n",
    "So wechselt die Karte automatisch zur ausgewählten Gemeinde, welche in der Dropdownliste ausgewählt wurde.\n",
    "\n",
    "Info zum Datensatz: https://opendata.swiss/de/dataset/amtliches-ortschaftenverzeichnis-mit-postleitzahl-und-perimeter [Stand: 14.10.2022]<br>\n",
    "Download: CSV , WGS84 Download: https://data.geo.admin.ch/ch.swisstopo-vd.ortschaftenverzeichnis_plz/PLZO_CSV_WGS84.zip [Stand: 14.10.2022]   "
   ]
  },
  {
   "cell_type": "code",
   "execution_count": 4,
   "id": "fb84e231-460c-4abd-ab9b-572ee0df74b1",
   "metadata": {},
   "outputs": [
    {
     "data": {
      "text/plain": [
       "{'name': 'Aadorf', 'lat': '47.49135943', 'lon': '8.897698233'}"
      ]
     },
     "execution_count": 4,
     "metadata": {},
     "output_type": "execute_result"
    }
   ],
   "source": [
    "# Lesen aller Gemeinden und speichern in eine list of Dictionaries\n",
    "with open(\"GWR_Data/CH_Gemeinden.csv\", 'r') as f:\n",
    "    dict_reader = DictReader(f)\n",
    "    cities = list(dict_reader)\n",
    "\n",
    "# Erster Eintrag anzeigen       \n",
    "cities [0]"
   ]
  },
  {
   "cell_type": "code",
   "execution_count": 5,
   "id": "1c05ac28-249e-4a83-b6c5-a61ed303c519",
   "metadata": {},
   "outputs": [],
   "source": [
    "# Generieren eines geojson Fils mit Maker für jede Gemeinde inkl. dem Namen als Tooltip\n",
    "geojson = dlx.dicts_to_geojson([{**c, **dict(tooltip=c['name'])} for c in cities])\n",
    "\n",
    "# Estellen der Javascript Funktion für das Filtern nach eines gewählten Gemeindenamens\n",
    "geojson_filter = assign(\"function(feature, context){return context.props.hideout.includes(feature.properties.name);}\")"
   ]
  },
  {
   "cell_type": "markdown",
   "id": "834fa9de-bc9d-4dd9-a818-8d8e4a26c2c6",
   "metadata": {},
   "source": [
    "### JupyterDash erstellen und Webserver auf dem Lokalhost mit Prot 8050 starten\n",
    "Hier wird das Dash vorbereitet... bla bla bla...\n",
    "\n",
    "gehostet wird das ganze auf einem NAS zu Hause bei Jürg Reist\n",
    "- Notebook und Dash lauft in einen Docker Container (jupyter/datascience-notebook) https://registry.hub.docker.com/r/jupyter/datascience-notebook/\n",
    "- Die Karte ist ein WMS aus einem QGIS Server. Auch dieser läuft Docker Container (camptocamp/qgis-server) https://registry.hub.docker.com/r/camptocamp/qgis-server/\n",
    "- Eigene Sublevel Domains (https://lab.rei.st und https://dash.rei.st) inkl. SSL\n",
    "- Reversproxy auf NAS\n",
    "- DNS auf NAS\n"
   ]
  },
  {
   "cell_type": "code",
   "execution_count": 6,
   "id": "05050146-79ec-4d76-a0e7-6aa224ff3897",
   "metadata": {},
   "outputs": [
    {
     "name": "stderr",
     "output_type": "stream",
     "text": [
      "WARNING: This is a development server. Do not use it in a production deployment. Use a production WSGI server instead.\n",
      " * Running on all addresses (0.0.0.0)\n",
      " * Running on http://127.0.0.1:8050\n",
      " * Running on http://172.17.0.4:8050\n",
      "Press CTRL+C to quit\n",
      "127.0.0.1 - - [14/Oct/2022 21:41:06] \"GET /_alive_2c545d83-774c-44f9-820a-23e768ceb97a HTTP/1.1\" 200 -\n"
     ]
    },
    {
     "name": "stdout",
     "output_type": "stream",
     "text": [
      "Dash app running on http://0.0.0.0:8050/\n"
     ]
    }
   ],
   "source": [
    "# JupyterDash erstellen\n",
    "app = JupyterDash(__name__, external_stylesheets=stylesheet)\n",
    "\n",
    "#Titel\n",
    "app.layout = html.Div(children=[\n",
    "    html.Div(children=[\n",
    "        html.H3(children='Wie gross ist der Anteil der Heizöl-, Gas- und Elektrizitätsheizungen in einer Gemeinde?'),\n",
    "        ], style={'textAlign': 'left'}),\n",
    "\n",
    "    ### Gemeinde Auswahl ###\n",
    "    html.Div(children=[\n",
    "        html.Label([\n",
    "        \"Gemeinde auswählen:\",\n",
    "        dcc.Dropdown(id='Gemeinde-dropdown', clearable=False, value=lsGemeinden[0], options=[{'label': c, 'value': c}\n",
    "                for c in lsGemeinden\n",
    "            ])\n",
    "        ])\n",
    "    ], className=\"two columns\",\n",
    "       style={'padding':'2rem', 'marginTop':'1rem', 'marginLeft':'1rem', 'boxShadow': '#e3e3e3 4px 4px 2px', 'border-radius': '10px', 'backgroundColor': 'withe'}),        \n",
    "\n",
    "             \n",
    "    ### PiePlot für die ausgewählte Gemeinde ###\n",
    "    html.Div(children=[\n",
    "             dcc.Graph(id='graph')\n",
    "        ], className=\"four columns\", style={'padding':'2rem', 'marginTop':'1rem', 'marginLeft':'1rem', 'boxShadow': '#e3e3e3 4px 4px 2px', 'border-radius': '10px', 'backgroundColor': 'withe'}),\n",
    "    \n",
    "     \n",
    "    #### Karte mit WMS vom QGIS-Server und im Hintergund die Geojson Marker####\n",
    "    html.Div(children=[\n",
    "           # Definiton des eigenen WMS \n",
    "           dl.Map([dl.WMSTileLayer(url=\"https://wms.rei.st/?SERVICE=WMS\", layers=\"Analyse\", format=\"image/png\", transparent=True),\n",
    "           dl.GeoJSON(data=geojson, options=dict(filter=geojson_filter), id=\"geojson\", zoomToBounds=True)       \n",
    "           ],\n",
    "               #center=[47.493, 8.902], zoom=15,\n",
    "               style={'width': '100%', 'height': '50vh', 'margin': \"auto\", \"display\": \"block\"}),    \n",
    "              \n",
    "    ], className=\"six columns\", style={'padding':'2rem', 'marginTop':'1rem', 'marginLeft':'1rem', 'boxShadow': '#e3e3e3 4px 4px 2px', 'border-radius': '10px'}),  \n",
    "             \n",
    "    \n",
    "    ### Fusszeile ###\n",
    "    html.Div(html.P('Weiterbildung der Hochschule für Architektur, Bau und Geomatik FHNW ¦ CAS Spatial Data Analytics 2022 ¦ Kommunale Übersicht von Heizsystemen und Energieträgern in Wohngebäuden ¦ Stand: 12.10.2022 ¦ Student: Jürg Reist'),\n",
    "            className=\"eleven columns\", style={'textAlign': 'left', 'padding':'1rem', 'marginTop':'5rem', 'marginLeft':'1rem', 'boxShadow': '#e3e3e3 4px 4px 2px', 'border-radius': '10px', 'font-style': 'italic'}\n",
    "            )\n",
    "    \n",
    "], style={'padding': '2rem'})\n",
    "\n",
    "\n",
    "# Definition der callback Funktion um die Grafik der gerade ausgewählten Gemeinde zu erstellen\n",
    "@app.callback(\n",
    "    Output('graph', 'figure'),\n",
    "    [Input(\"Gemeinde-dropdown\", \"value\")]\n",
    ")\n",
    "\n",
    "def update_figure(Gemeinde):\n",
    "    dfselect = df.loc[(df['Gemeinde']==Gemeinde)]\n",
    "    fig = px.pie(dfselect, values='Anzahl', names='Energiequelle', title='<b> Gemeinde ' + Gemeinde + '</b>')\n",
    "    #image = 'Export_Data/Heatmaps_QGIS/'+ Gemeinde +'.png'\n",
    "    #image = src=b64_image('Export_Data/Heatmaps_QGIS/'+ Gemeinde +'.png')\n",
    "    return fig\n",
    "\n",
    "# Definition der callback Funktion um die Karte der gerade ausgewählten Gemeinde zu aktualisieren\n",
    "# Dies könnte auch als normaler callback aufegrufen werden. Ist aber so performanter\n",
    "app.clientside_callback(\"function(x){return x;}\", Output(\"geojson\", \"hideout\"), Input(\"Gemeinde-dropdown\", \"value\"))\n",
    "\n",
    "# Starten der App, um das Resultat in einem externen Browser-Tab anzuzeigen\n",
    "if __name__ == '__main__':\n",
    "      app.run_server(mode='external', host='0.0.0.0', port=8050, debug=False)\n"
   ]
  },
  {
   "cell_type": "code",
   "execution_count": null,
   "id": "fbbd6b43-4e63-42e2-8bd2-f1a86992bed9",
   "metadata": {},
   "outputs": [],
   "source": []
  }
 ],
 "metadata": {
  "kernelspec": {
   "display_name": "Python 3 (ipykernel)",
   "language": "python",
   "name": "python3"
  },
  "language_info": {
   "codemirror_mode": {
    "name": "ipython",
    "version": 3
   },
   "file_extension": ".py",
   "mimetype": "text/x-python",
   "name": "python",
   "nbconvert_exporter": "python",
   "pygments_lexer": "ipython3",
   "version": "3.10.6"
  }
 },
 "nbformat": 4,
 "nbformat_minor": 5
}
